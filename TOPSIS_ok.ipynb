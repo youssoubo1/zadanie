{
  "nbformat": 4,
  "nbformat_minor": 0,
  "metadata": {
    "colab": {
      "provenance": [],
      "authorship_tag": "ABX9TyMo5nUWzUAOgGHK/cSwuzC6"
    },
    "kernelspec": {
      "name": "python3",
      "display_name": "Python 3"
    },
    "language_info": {
      "name": "python"
    }
  },
  "cells": [
    {
      "cell_type": "code",
      "execution_count": 3,
      "metadata": {
        "id": "6j1hbfZ8Ki41"
      },
      "outputs": [],
      "source": [
        "# # Все пакеты, которые нам нужно импортировать \n",
        "import pandas as pd              # для табличного вывода\n",
        "import numpy as np               # для линейной алгебры"
      ]
    },
    {
      "cell_type": "code",
      "source": [
        "# Данные закодированы в векторы и матрицы\n",
        "mtx = [ [690, 3.1,  9,  7,  4],\n",
        "         [590, 3.9,  7,  6, 10],\n",
        "         [600, 3.6,  8,  8,  7],\n",
        "         [620, 3.8,  7, 10,  6],\n",
        "         [700, 2.8, 10,  4,  6],\n",
        "         [650, 4.0,  6,  9,  8]]\n",
        "\n",
        "w = [0.3, 0.2, 0.2, 0.15, 0.15]\n",
        "\n",
        "\n",
        "names = ['Alfred', 'Bever', 'calvi', 'dian','edward', 'franc']\n",
        "\n",
        "\n",
        "# Отобразить необработанные данные, которые у нас есть\n",
        "Data = pd.DataFrame(mtx, index = names)\n",
        "Data"
      ],
      "metadata": {
        "colab": {
          "base_uri": "https://localhost:8080/",
          "height": 238
        },
        "id": "gZuR-a52Kxnv",
        "outputId": "b7e9f3a0-1f1b-4e67-c62f-a269a1908154"
      },
      "execution_count": 9,
      "outputs": [
        {
          "output_type": "execute_result",
          "data": {
            "text/plain": [
              "          0    1   2   3   4\n",
              "Alfred  690  3.1   9   7   4\n",
              "Bever   590  3.9   7   6  10\n",
              "calvi   600  3.6   8   8   7\n",
              "dian    620  3.8   7  10   6\n",
              "edward  700  2.8  10   4   6\n",
              "franc   650  4.0   6   9   8"
            ],
            "text/html": [
              "\n",
              "  <div id=\"df-ea4de3ef-0108-4cc6-9b6b-918ef247872a\">\n",
              "    <div class=\"colab-df-container\">\n",
              "      <div>\n",
              "<style scoped>\n",
              "    .dataframe tbody tr th:only-of-type {\n",
              "        vertical-align: middle;\n",
              "    }\n",
              "\n",
              "    .dataframe tbody tr th {\n",
              "        vertical-align: top;\n",
              "    }\n",
              "\n",
              "    .dataframe thead th {\n",
              "        text-align: right;\n",
              "    }\n",
              "</style>\n",
              "<table border=\"1\" class=\"dataframe\">\n",
              "  <thead>\n",
              "    <tr style=\"text-align: right;\">\n",
              "      <th></th>\n",
              "      <th>0</th>\n",
              "      <th>1</th>\n",
              "      <th>2</th>\n",
              "      <th>3</th>\n",
              "      <th>4</th>\n",
              "    </tr>\n",
              "  </thead>\n",
              "  <tbody>\n",
              "    <tr>\n",
              "      <th>Alfred</th>\n",
              "      <td>690</td>\n",
              "      <td>3.1</td>\n",
              "      <td>9</td>\n",
              "      <td>7</td>\n",
              "      <td>4</td>\n",
              "    </tr>\n",
              "    <tr>\n",
              "      <th>Bever</th>\n",
              "      <td>590</td>\n",
              "      <td>3.9</td>\n",
              "      <td>7</td>\n",
              "      <td>6</td>\n",
              "      <td>10</td>\n",
              "    </tr>\n",
              "    <tr>\n",
              "      <th>calvi</th>\n",
              "      <td>600</td>\n",
              "      <td>3.6</td>\n",
              "      <td>8</td>\n",
              "      <td>8</td>\n",
              "      <td>7</td>\n",
              "    </tr>\n",
              "    <tr>\n",
              "      <th>dian</th>\n",
              "      <td>620</td>\n",
              "      <td>3.8</td>\n",
              "      <td>7</td>\n",
              "      <td>10</td>\n",
              "      <td>6</td>\n",
              "    </tr>\n",
              "    <tr>\n",
              "      <th>edward</th>\n",
              "      <td>700</td>\n",
              "      <td>2.8</td>\n",
              "      <td>10</td>\n",
              "      <td>4</td>\n",
              "      <td>6</td>\n",
              "    </tr>\n",
              "    <tr>\n",
              "      <th>franc</th>\n",
              "      <td>650</td>\n",
              "      <td>4.0</td>\n",
              "      <td>6</td>\n",
              "      <td>9</td>\n",
              "      <td>8</td>\n",
              "    </tr>\n",
              "  </tbody>\n",
              "</table>\n",
              "</div>\n",
              "      <button class=\"colab-df-convert\" onclick=\"convertToInteractive('df-ea4de3ef-0108-4cc6-9b6b-918ef247872a')\"\n",
              "              title=\"Convert this dataframe to an interactive table.\"\n",
              "              style=\"display:none;\">\n",
              "        \n",
              "  <svg xmlns=\"http://www.w3.org/2000/svg\" height=\"24px\"viewBox=\"0 0 24 24\"\n",
              "       width=\"24px\">\n",
              "    <path d=\"M0 0h24v24H0V0z\" fill=\"none\"/>\n",
              "    <path d=\"M18.56 5.44l.94 2.06.94-2.06 2.06-.94-2.06-.94-.94-2.06-.94 2.06-2.06.94zm-11 1L8.5 8.5l.94-2.06 2.06-.94-2.06-.94L8.5 2.5l-.94 2.06-2.06.94zm10 10l.94 2.06.94-2.06 2.06-.94-2.06-.94-.94-2.06-.94 2.06-2.06.94z\"/><path d=\"M17.41 7.96l-1.37-1.37c-.4-.4-.92-.59-1.43-.59-.52 0-1.04.2-1.43.59L10.3 9.45l-7.72 7.72c-.78.78-.78 2.05 0 2.83L4 21.41c.39.39.9.59 1.41.59.51 0 1.02-.2 1.41-.59l7.78-7.78 2.81-2.81c.8-.78.8-2.07 0-2.86zM5.41 20L4 18.59l7.72-7.72 1.47 1.35L5.41 20z\"/>\n",
              "  </svg>\n",
              "      </button>\n",
              "      \n",
              "  <style>\n",
              "    .colab-df-container {\n",
              "      display:flex;\n",
              "      flex-wrap:wrap;\n",
              "      gap: 12px;\n",
              "    }\n",
              "\n",
              "    .colab-df-convert {\n",
              "      background-color: #E8F0FE;\n",
              "      border: none;\n",
              "      border-radius: 50%;\n",
              "      cursor: pointer;\n",
              "      display: none;\n",
              "      fill: #1967D2;\n",
              "      height: 32px;\n",
              "      padding: 0 0 0 0;\n",
              "      width: 32px;\n",
              "    }\n",
              "\n",
              "    .colab-df-convert:hover {\n",
              "      background-color: #E2EBFA;\n",
              "      box-shadow: 0px 1px 2px rgba(60, 64, 67, 0.3), 0px 1px 3px 1px rgba(60, 64, 67, 0.15);\n",
              "      fill: #174EA6;\n",
              "    }\n",
              "\n",
              "    [theme=dark] .colab-df-convert {\n",
              "      background-color: #3B4455;\n",
              "      fill: #D2E3FC;\n",
              "    }\n",
              "\n",
              "    [theme=dark] .colab-df-convert:hover {\n",
              "      background-color: #434B5C;\n",
              "      box-shadow: 0px 1px 3px 1px rgba(0, 0, 0, 0.15);\n",
              "      filter: drop-shadow(0px 1px 2px rgba(0, 0, 0, 0.3));\n",
              "      fill: #FFFFFF;\n",
              "    }\n",
              "  </style>\n",
              "\n",
              "      <script>\n",
              "        const buttonEl =\n",
              "          document.querySelector('#df-ea4de3ef-0108-4cc6-9b6b-918ef247872a button.colab-df-convert');\n",
              "        buttonEl.style.display =\n",
              "          google.colab.kernel.accessAllowed ? 'block' : 'none';\n",
              "\n",
              "        async function convertToInteractive(key) {\n",
              "          const element = document.querySelector('#df-ea4de3ef-0108-4cc6-9b6b-918ef247872a');\n",
              "          const dataTable =\n",
              "            await google.colab.kernel.invokeFunction('convertToInteractive',\n",
              "                                                     [key], {});\n",
              "          if (!dataTable) return;\n",
              "\n",
              "          const docLinkHtml = 'Like what you see? Visit the ' +\n",
              "            '<a target=\"_blank\" href=https://colab.research.google.com/notebooks/data_table.ipynb>data table notebook</a>'\n",
              "            + ' to learn more about interactive tables.';\n",
              "          element.innerHTML = '';\n",
              "          dataTable['output_type'] = 'display_data';\n",
              "          await google.colab.output.renderOutput(dataTable, element);\n",
              "          const docLink = document.createElement('div');\n",
              "          docLink.innerHTML = docLinkHtml;\n",
              "          element.appendChild(docLink);\n",
              "        }\n",
              "      </script>\n",
              "    </div>\n",
              "  </div>\n",
              "  "
            ]
          },
          "metadata": {},
          "execution_count": 9
        }
      ]
    },
    {
      "cell_type": "markdown",
      "source": [
        "![image.png](data:image/png;base64,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)"
      ],
      "metadata": {
        "id": "yV9DWpMbFPgL"
      }
    },
    {
      "cell_type": "code",
      "source": [
        "Data_norm = Data/np.sqrt(np.power(Data,2).sum(axis=0))\n",
        "Data_norm "
      ],
      "metadata": {
        "colab": {
          "base_uri": "https://localhost:8080/",
          "height": 238
        },
        "id": "w3YZrUZE_44k",
        "outputId": "fa5d3103-2551-4939-f400-717eed69c45c"
      },
      "execution_count": 12,
      "outputs": [
        {
          "output_type": "execute_result",
          "data": {
            "text/plain": [
              "               0         1         2         3         4\n",
              "Alfred  0.438053  0.355454  0.462299  0.376322  0.230556\n",
              "Bever   0.374567  0.447184  0.359566  0.322562  0.576390\n",
              "calvi   0.380916  0.412785  0.410932  0.430083  0.403473\n",
              "dian    0.393613  0.435718  0.359566  0.537603  0.345834\n",
              "edward  0.444402  0.321055  0.513665  0.215041  0.345834\n",
              "franc   0.412659  0.458650  0.308199  0.483843  0.461112"
            ],
            "text/html": [
              "\n",
              "  <div id=\"df-64e6ee4d-f254-4dab-8fd4-bfcf231a03d2\">\n",
              "    <div class=\"colab-df-container\">\n",
              "      <div>\n",
              "<style scoped>\n",
              "    .dataframe tbody tr th:only-of-type {\n",
              "        vertical-align: middle;\n",
              "    }\n",
              "\n",
              "    .dataframe tbody tr th {\n",
              "        vertical-align: top;\n",
              "    }\n",
              "\n",
              "    .dataframe thead th {\n",
              "        text-align: right;\n",
              "    }\n",
              "</style>\n",
              "<table border=\"1\" class=\"dataframe\">\n",
              "  <thead>\n",
              "    <tr style=\"text-align: right;\">\n",
              "      <th></th>\n",
              "      <th>0</th>\n",
              "      <th>1</th>\n",
              "      <th>2</th>\n",
              "      <th>3</th>\n",
              "      <th>4</th>\n",
              "    </tr>\n",
              "  </thead>\n",
              "  <tbody>\n",
              "    <tr>\n",
              "      <th>Alfred</th>\n",
              "      <td>0.438053</td>\n",
              "      <td>0.355454</td>\n",
              "      <td>0.462299</td>\n",
              "      <td>0.376322</td>\n",
              "      <td>0.230556</td>\n",
              "    </tr>\n",
              "    <tr>\n",
              "      <th>Bever</th>\n",
              "      <td>0.374567</td>\n",
              "      <td>0.447184</td>\n",
              "      <td>0.359566</td>\n",
              "      <td>0.322562</td>\n",
              "      <td>0.576390</td>\n",
              "    </tr>\n",
              "    <tr>\n",
              "      <th>calvi</th>\n",
              "      <td>0.380916</td>\n",
              "      <td>0.412785</td>\n",
              "      <td>0.410932</td>\n",
              "      <td>0.430083</td>\n",
              "      <td>0.403473</td>\n",
              "    </tr>\n",
              "    <tr>\n",
              "      <th>dian</th>\n",
              "      <td>0.393613</td>\n",
              "      <td>0.435718</td>\n",
              "      <td>0.359566</td>\n",
              "      <td>0.537603</td>\n",
              "      <td>0.345834</td>\n",
              "    </tr>\n",
              "    <tr>\n",
              "      <th>edward</th>\n",
              "      <td>0.444402</td>\n",
              "      <td>0.321055</td>\n",
              "      <td>0.513665</td>\n",
              "      <td>0.215041</td>\n",
              "      <td>0.345834</td>\n",
              "    </tr>\n",
              "    <tr>\n",
              "      <th>franc</th>\n",
              "      <td>0.412659</td>\n",
              "      <td>0.458650</td>\n",
              "      <td>0.308199</td>\n",
              "      <td>0.483843</td>\n",
              "      <td>0.461112</td>\n",
              "    </tr>\n",
              "  </tbody>\n",
              "</table>\n",
              "</div>\n",
              "      <button class=\"colab-df-convert\" onclick=\"convertToInteractive('df-64e6ee4d-f254-4dab-8fd4-bfcf231a03d2')\"\n",
              "              title=\"Convert this dataframe to an interactive table.\"\n",
              "              style=\"display:none;\">\n",
              "        \n",
              "  <svg xmlns=\"http://www.w3.org/2000/svg\" height=\"24px\"viewBox=\"0 0 24 24\"\n",
              "       width=\"24px\">\n",
              "    <path d=\"M0 0h24v24H0V0z\" fill=\"none\"/>\n",
              "    <path d=\"M18.56 5.44l.94 2.06.94-2.06 2.06-.94-2.06-.94-.94-2.06-.94 2.06-2.06.94zm-11 1L8.5 8.5l.94-2.06 2.06-.94-2.06-.94L8.5 2.5l-.94 2.06-2.06.94zm10 10l.94 2.06.94-2.06 2.06-.94-2.06-.94-.94-2.06-.94 2.06-2.06.94z\"/><path d=\"M17.41 7.96l-1.37-1.37c-.4-.4-.92-.59-1.43-.59-.52 0-1.04.2-1.43.59L10.3 9.45l-7.72 7.72c-.78.78-.78 2.05 0 2.83L4 21.41c.39.39.9.59 1.41.59.51 0 1.02-.2 1.41-.59l7.78-7.78 2.81-2.81c.8-.78.8-2.07 0-2.86zM5.41 20L4 18.59l7.72-7.72 1.47 1.35L5.41 20z\"/>\n",
              "  </svg>\n",
              "      </button>\n",
              "      \n",
              "  <style>\n",
              "    .colab-df-container {\n",
              "      display:flex;\n",
              "      flex-wrap:wrap;\n",
              "      gap: 12px;\n",
              "    }\n",
              "\n",
              "    .colab-df-convert {\n",
              "      background-color: #E8F0FE;\n",
              "      border: none;\n",
              "      border-radius: 50%;\n",
              "      cursor: pointer;\n",
              "      display: none;\n",
              "      fill: #1967D2;\n",
              "      height: 32px;\n",
              "      padding: 0 0 0 0;\n",
              "      width: 32px;\n",
              "    }\n",
              "\n",
              "    .colab-df-convert:hover {\n",
              "      background-color: #E2EBFA;\n",
              "      box-shadow: 0px 1px 2px rgba(60, 64, 67, 0.3), 0px 1px 3px 1px rgba(60, 64, 67, 0.15);\n",
              "      fill: #174EA6;\n",
              "    }\n",
              "\n",
              "    [theme=dark] .colab-df-convert {\n",
              "      background-color: #3B4455;\n",
              "      fill: #D2E3FC;\n",
              "    }\n",
              "\n",
              "    [theme=dark] .colab-df-convert:hover {\n",
              "      background-color: #434B5C;\n",
              "      box-shadow: 0px 1px 3px 1px rgba(0, 0, 0, 0.15);\n",
              "      filter: drop-shadow(0px 1px 2px rgba(0, 0, 0, 0.3));\n",
              "      fill: #FFFFFF;\n",
              "    }\n",
              "  </style>\n",
              "\n",
              "      <script>\n",
              "        const buttonEl =\n",
              "          document.querySelector('#df-64e6ee4d-f254-4dab-8fd4-bfcf231a03d2 button.colab-df-convert');\n",
              "        buttonEl.style.display =\n",
              "          google.colab.kernel.accessAllowed ? 'block' : 'none';\n",
              "\n",
              "        async function convertToInteractive(key) {\n",
              "          const element = document.querySelector('#df-64e6ee4d-f254-4dab-8fd4-bfcf231a03d2');\n",
              "          const dataTable =\n",
              "            await google.colab.kernel.invokeFunction('convertToInteractive',\n",
              "                                                     [key], {});\n",
              "          if (!dataTable) return;\n",
              "\n",
              "          const docLinkHtml = 'Like what you see? Visit the ' +\n",
              "            '<a target=\"_blank\" href=https://colab.research.google.com/notebooks/data_table.ipynb>data table notebook</a>'\n",
              "            + ' to learn more about interactive tables.';\n",
              "          element.innerHTML = '';\n",
              "          dataTable['output_type'] = 'display_data';\n",
              "          await google.colab.output.renderOutput(dataTable, element);\n",
              "          const docLink = document.createElement('div');\n",
              "          docLink.innerHTML = docLinkHtml;\n",
              "          element.appendChild(docLink);\n",
              "        }\n",
              "      </script>\n",
              "    </div>\n",
              "  </div>\n",
              "  "
            ]
          },
          "metadata": {},
          "execution_count": 12
        }
      ]
    },
    {
      "cell_type": "markdown",
      "source": [
        "![image.png](data:image/png;base64,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)"
      ],
      "metadata": {
        "id": "3VnSej1XJEGT"
      }
    },
    {
      "cell_type": "code",
      "source": [
        "Data_norm_w = Data_norm*w\n",
        "Data_norm_w "
      ],
      "metadata": {
        "colab": {
          "base_uri": "https://localhost:8080/",
          "height": 238
        },
        "id": "65qUkp9FCnbb",
        "outputId": "a1c59162-e0fc-4996-8241-829d14d6e405"
      },
      "execution_count": 13,
      "outputs": [
        {
          "output_type": "execute_result",
          "data": {
            "text/plain": [
              "               0         1         2         3         4\n",
              "Alfred  0.131416  0.071091  0.092460  0.056448  0.034583\n",
              "Bever   0.112370  0.089437  0.071913  0.048384  0.086459\n",
              "calvi   0.114275  0.082557  0.082186  0.064512  0.060521\n",
              "dian    0.118084  0.087144  0.071913  0.080640  0.051875\n",
              "edward  0.133321  0.064211  0.102733  0.032256  0.051875\n",
              "franc   0.123798  0.091730  0.061640  0.072576  0.069167"
            ],
            "text/html": [
              "\n",
              "  <div id=\"df-9d216229-ec63-44ac-b8c0-11edafd84e00\">\n",
              "    <div class=\"colab-df-container\">\n",
              "      <div>\n",
              "<style scoped>\n",
              "    .dataframe tbody tr th:only-of-type {\n",
              "        vertical-align: middle;\n",
              "    }\n",
              "\n",
              "    .dataframe tbody tr th {\n",
              "        vertical-align: top;\n",
              "    }\n",
              "\n",
              "    .dataframe thead th {\n",
              "        text-align: right;\n",
              "    }\n",
              "</style>\n",
              "<table border=\"1\" class=\"dataframe\">\n",
              "  <thead>\n",
              "    <tr style=\"text-align: right;\">\n",
              "      <th></th>\n",
              "      <th>0</th>\n",
              "      <th>1</th>\n",
              "      <th>2</th>\n",
              "      <th>3</th>\n",
              "      <th>4</th>\n",
              "    </tr>\n",
              "  </thead>\n",
              "  <tbody>\n",
              "    <tr>\n",
              "      <th>Alfred</th>\n",
              "      <td>0.131416</td>\n",
              "      <td>0.071091</td>\n",
              "      <td>0.092460</td>\n",
              "      <td>0.056448</td>\n",
              "      <td>0.034583</td>\n",
              "    </tr>\n",
              "    <tr>\n",
              "      <th>Bever</th>\n",
              "      <td>0.112370</td>\n",
              "      <td>0.089437</td>\n",
              "      <td>0.071913</td>\n",
              "      <td>0.048384</td>\n",
              "      <td>0.086459</td>\n",
              "    </tr>\n",
              "    <tr>\n",
              "      <th>calvi</th>\n",
              "      <td>0.114275</td>\n",
              "      <td>0.082557</td>\n",
              "      <td>0.082186</td>\n",
              "      <td>0.064512</td>\n",
              "      <td>0.060521</td>\n",
              "    </tr>\n",
              "    <tr>\n",
              "      <th>dian</th>\n",
              "      <td>0.118084</td>\n",
              "      <td>0.087144</td>\n",
              "      <td>0.071913</td>\n",
              "      <td>0.080640</td>\n",
              "      <td>0.051875</td>\n",
              "    </tr>\n",
              "    <tr>\n",
              "      <th>edward</th>\n",
              "      <td>0.133321</td>\n",
              "      <td>0.064211</td>\n",
              "      <td>0.102733</td>\n",
              "      <td>0.032256</td>\n",
              "      <td>0.051875</td>\n",
              "    </tr>\n",
              "    <tr>\n",
              "      <th>franc</th>\n",
              "      <td>0.123798</td>\n",
              "      <td>0.091730</td>\n",
              "      <td>0.061640</td>\n",
              "      <td>0.072576</td>\n",
              "      <td>0.069167</td>\n",
              "    </tr>\n",
              "  </tbody>\n",
              "</table>\n",
              "</div>\n",
              "      <button class=\"colab-df-convert\" onclick=\"convertToInteractive('df-9d216229-ec63-44ac-b8c0-11edafd84e00')\"\n",
              "              title=\"Convert this dataframe to an interactive table.\"\n",
              "              style=\"display:none;\">\n",
              "        \n",
              "  <svg xmlns=\"http://www.w3.org/2000/svg\" height=\"24px\"viewBox=\"0 0 24 24\"\n",
              "       width=\"24px\">\n",
              "    <path d=\"M0 0h24v24H0V0z\" fill=\"none\"/>\n",
              "    <path d=\"M18.56 5.44l.94 2.06.94-2.06 2.06-.94-2.06-.94-.94-2.06-.94 2.06-2.06.94zm-11 1L8.5 8.5l.94-2.06 2.06-.94-2.06-.94L8.5 2.5l-.94 2.06-2.06.94zm10 10l.94 2.06.94-2.06 2.06-.94-2.06-.94-.94-2.06-.94 2.06-2.06.94z\"/><path d=\"M17.41 7.96l-1.37-1.37c-.4-.4-.92-.59-1.43-.59-.52 0-1.04.2-1.43.59L10.3 9.45l-7.72 7.72c-.78.78-.78 2.05 0 2.83L4 21.41c.39.39.9.59 1.41.59.51 0 1.02-.2 1.41-.59l7.78-7.78 2.81-2.81c.8-.78.8-2.07 0-2.86zM5.41 20L4 18.59l7.72-7.72 1.47 1.35L5.41 20z\"/>\n",
              "  </svg>\n",
              "      </button>\n",
              "      \n",
              "  <style>\n",
              "    .colab-df-container {\n",
              "      display:flex;\n",
              "      flex-wrap:wrap;\n",
              "      gap: 12px;\n",
              "    }\n",
              "\n",
              "    .colab-df-convert {\n",
              "      background-color: #E8F0FE;\n",
              "      border: none;\n",
              "      border-radius: 50%;\n",
              "      cursor: pointer;\n",
              "      display: none;\n",
              "      fill: #1967D2;\n",
              "      height: 32px;\n",
              "      padding: 0 0 0 0;\n",
              "      width: 32px;\n",
              "    }\n",
              "\n",
              "    .colab-df-convert:hover {\n",
              "      background-color: #E2EBFA;\n",
              "      box-shadow: 0px 1px 2px rgba(60, 64, 67, 0.3), 0px 1px 3px 1px rgba(60, 64, 67, 0.15);\n",
              "      fill: #174EA6;\n",
              "    }\n",
              "\n",
              "    [theme=dark] .colab-df-convert {\n",
              "      background-color: #3B4455;\n",
              "      fill: #D2E3FC;\n",
              "    }\n",
              "\n",
              "    [theme=dark] .colab-df-convert:hover {\n",
              "      background-color: #434B5C;\n",
              "      box-shadow: 0px 1px 3px 1px rgba(0, 0, 0, 0.15);\n",
              "      filter: drop-shadow(0px 1px 2px rgba(0, 0, 0, 0.3));\n",
              "      fill: #FFFFFF;\n",
              "    }\n",
              "  </style>\n",
              "\n",
              "      <script>\n",
              "        const buttonEl =\n",
              "          document.querySelector('#df-9d216229-ec63-44ac-b8c0-11edafd84e00 button.colab-df-convert');\n",
              "        buttonEl.style.display =\n",
              "          google.colab.kernel.accessAllowed ? 'block' : 'none';\n",
              "\n",
              "        async function convertToInteractive(key) {\n",
              "          const element = document.querySelector('#df-9d216229-ec63-44ac-b8c0-11edafd84e00');\n",
              "          const dataTable =\n",
              "            await google.colab.kernel.invokeFunction('convertToInteractive',\n",
              "                                                     [key], {});\n",
              "          if (!dataTable) return;\n",
              "\n",
              "          const docLinkHtml = 'Like what you see? Visit the ' +\n",
              "            '<a target=\"_blank\" href=https://colab.research.google.com/notebooks/data_table.ipynb>data table notebook</a>'\n",
              "            + ' to learn more about interactive tables.';\n",
              "          element.innerHTML = '';\n",
              "          dataTable['output_type'] = 'display_data';\n",
              "          await google.colab.output.renderOutput(dataTable, element);\n",
              "          const docLink = document.createElement('div');\n",
              "          docLink.innerHTML = docLinkHtml;\n",
              "          element.appendChild(docLink);\n",
              "        }\n",
              "      </script>\n",
              "    </div>\n",
              "  </div>\n",
              "  "
            ]
          },
          "metadata": {},
          "execution_count": 13
        }
      ]
    },
    {
      "cell_type": "code",
      "source": [
        "positive_ideal = Data_norm_w.max()\n",
        "negative_ideal = Data_norm_w.min()"
      ],
      "metadata": {
        "id": "UOLYTjx1K5mt"
      },
      "execution_count": 14,
      "outputs": []
    },
    {
      "cell_type": "code",
      "source": [
        "Data_norm_w.min()"
      ],
      "metadata": {
        "colab": {
          "base_uri": "https://localhost:8080/"
        },
        "id": "_YLh7loQLPnS",
        "outputId": "626e94d1-7b89-4e07-a0c7-ab8b40a93fa8"
      },
      "execution_count": 18,
      "outputs": [
        {
          "output_type": "execute_result",
          "data": {
            "text/plain": [
              "0    0.112370\n",
              "1    0.064211\n",
              "2    0.061640\n",
              "3    0.032256\n",
              "4    0.034583\n",
              "dtype: float64"
            ]
          },
          "metadata": {},
          "execution_count": 18
        }
      ]
    },
    {
      "cell_type": "markdown",
      "source": [
        "####Расчет взвешенных нормализованных оценок"
      ],
      "metadata": {
        "id": "NWM-D59iae0T"
      }
    },
    {
      "cell_type": "markdown",
      "source": [
        "![image.png](data:image/png;base64,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)"
      ],
      "metadata": {
        "id": "q9QeSbTTUIL6"
      }
    },
    {
      "cell_type": "code",
      "source": [
        "sm_P = np.sqrt(np.power(Data_norm_w-positive_ideal,2).sum(axis=1))\n",
        "sm_N = np.sqrt(np.power(Data_norm_w-negative_ideal,2).sum(axis=1))"
      ],
      "metadata": {
        "id": "n9xH1_vIRq8p"
      },
      "execution_count": 19,
      "outputs": []
    },
    {
      "cell_type": "markdown",
      "source": [
        "![image.png](data:image/png;base64,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)"
      ],
      "metadata": {
        "id": "mZI01_-DWnCT"
      }
    },
    {
      "cell_type": "code",
      "source": [
        "sm_N/(sm_N+sm_P)"
      ],
      "metadata": {
        "colab": {
          "base_uri": "https://localhost:8080/"
        },
        "id": "v6crWyUHLKGv",
        "outputId": "339ba806-7583-477e-921a-57483d883587"
      },
      "execution_count": 22,
      "outputs": [
        {
          "output_type": "execute_result",
          "data": {
            "text/plain": [
              "Alfred    0.416704\n",
              "Bever     0.551900\n",
              "calvi     0.539620\n",
              "dian      0.539926\n",
              "edward    0.429128\n",
              "franc     0.568142\n",
              "dtype: float64"
            ]
          },
          "metadata": {},
          "execution_count": 22
        }
      ]
    },
    {
      "cell_type": "code",
      "source": [],
      "metadata": {
        "id": "hnFqDAv1LQRJ"
      },
      "execution_count": null,
      "outputs": []
    },
    {
      "cell_type": "code",
      "source": [],
      "metadata": {
        "id": "2P0HPtBkLY6-"
      },
      "execution_count": null,
      "outputs": []
    },
    {
      "cell_type": "code",
      "source": [],
      "metadata": {
        "id": "xcEOTjxdLdbX"
      },
      "execution_count": null,
      "outputs": []
    },
    {
      "cell_type": "code",
      "source": [],
      "metadata": {
        "id": "u-ElxMPjLmyY"
      },
      "execution_count": null,
      "outputs": []
    }
  ]
}