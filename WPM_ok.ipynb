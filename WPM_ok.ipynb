{
  "cells": [
    {
      "cell_type": "markdown",
      "metadata": {
        "id": "view-in-github",
        "colab_type": "text"
      },
      "source": [
        "<a href=\"https://colab.research.google.com/github/youssoubo1/zadanie/blob/main/WPM_ok.ipynb\" target=\"_parent\"><img src=\"https://colab.research.google.com/assets/colab-badge.svg\" alt=\"Open In Colab\"/></a>"
      ]
    },
    {
      "cell_type": "code",
      "execution_count": 1,
      "metadata": {
        "id": "Og_ODdlz9bko"
      },
      "outputs": [],
      "source": [
        "# # Все пакеты, которые нам нужно импортировать \n",
        "import pandas as pd              # для табличного вывода\n",
        "import numpy as np               # для линейной алгебры"
      ]
    },
    {
      "cell_type": "code",
      "execution_count": 3,
      "metadata": {
        "colab": {
          "base_uri": "https://localhost:8080/",
          "height": 236
        },
        "id": "QHHZXh5R9kGS",
        "outputId": "0e8d6d9f-54f8-4932-8dbf-6fa9e146688a"
      },
      "outputs": [
        {
          "output_type": "execute_result",
          "data": {
            "text/plain": [
              "            Временные хар-ки  Восстана-вливаемость  Покрытие контекста  \\\n",
              "оzon                    0.43                  0.35                0.46   \n",
              "amazon                  0.37                  0.44                0.35   \n",
              "aliexpress              0.38                  0.41                0.41   \n",
              "wilberrу                0.39                  0.43                0.35   \n",
              "\n",
              "            гибкость  Упра-вляемость  \n",
              "оzon            0.37            0.23  \n",
              "amazon          0.32            0.57  \n",
              "aliexpress      0.43            0.40  \n",
              "wilberrу        0.53            0.34  "
            ],
            "text/html": [
              "\n",
              "  <div id=\"df-0aadfaff-283c-4935-935a-8aece913299c\">\n",
              "    <div class=\"colab-df-container\">\n",
              "      <div>\n",
              "<style scoped>\n",
              "    .dataframe tbody tr th:only-of-type {\n",
              "        vertical-align: middle;\n",
              "    }\n",
              "\n",
              "    .dataframe tbody tr th {\n",
              "        vertical-align: top;\n",
              "    }\n",
              "\n",
              "    .dataframe thead th {\n",
              "        text-align: right;\n",
              "    }\n",
              "</style>\n",
              "<table border=\"1\" class=\"dataframe\">\n",
              "  <thead>\n",
              "    <tr style=\"text-align: right;\">\n",
              "      <th></th>\n",
              "      <th>Временные хар-ки</th>\n",
              "      <th>Восстана-вливаемость</th>\n",
              "      <th>Покрытие контекста</th>\n",
              "      <th>гибкость</th>\n",
              "      <th>Упра-вляемость</th>\n",
              "    </tr>\n",
              "  </thead>\n",
              "  <tbody>\n",
              "    <tr>\n",
              "      <th>оzon</th>\n",
              "      <td>0.43</td>\n",
              "      <td>0.35</td>\n",
              "      <td>0.46</td>\n",
              "      <td>0.37</td>\n",
              "      <td>0.23</td>\n",
              "    </tr>\n",
              "    <tr>\n",
              "      <th>amazon</th>\n",
              "      <td>0.37</td>\n",
              "      <td>0.44</td>\n",
              "      <td>0.35</td>\n",
              "      <td>0.32</td>\n",
              "      <td>0.57</td>\n",
              "    </tr>\n",
              "    <tr>\n",
              "      <th>aliexpress</th>\n",
              "      <td>0.38</td>\n",
              "      <td>0.41</td>\n",
              "      <td>0.41</td>\n",
              "      <td>0.43</td>\n",
              "      <td>0.40</td>\n",
              "    </tr>\n",
              "    <tr>\n",
              "      <th>wilberrу</th>\n",
              "      <td>0.39</td>\n",
              "      <td>0.43</td>\n",
              "      <td>0.35</td>\n",
              "      <td>0.53</td>\n",
              "      <td>0.34</td>\n",
              "    </tr>\n",
              "  </tbody>\n",
              "</table>\n",
              "</div>\n",
              "      <button class=\"colab-df-convert\" onclick=\"convertToInteractive('df-0aadfaff-283c-4935-935a-8aece913299c')\"\n",
              "              title=\"Convert this dataframe to an interactive table.\"\n",
              "              style=\"display:none;\">\n",
              "        \n",
              "  <svg xmlns=\"http://www.w3.org/2000/svg\" height=\"24px\"viewBox=\"0 0 24 24\"\n",
              "       width=\"24px\">\n",
              "    <path d=\"M0 0h24v24H0V0z\" fill=\"none\"/>\n",
              "    <path d=\"M18.56 5.44l.94 2.06.94-2.06 2.06-.94-2.06-.94-.94-2.06-.94 2.06-2.06.94zm-11 1L8.5 8.5l.94-2.06 2.06-.94-2.06-.94L8.5 2.5l-.94 2.06-2.06.94zm10 10l.94 2.06.94-2.06 2.06-.94-2.06-.94-.94-2.06-.94 2.06-2.06.94z\"/><path d=\"M17.41 7.96l-1.37-1.37c-.4-.4-.92-.59-1.43-.59-.52 0-1.04.2-1.43.59L10.3 9.45l-7.72 7.72c-.78.78-.78 2.05 0 2.83L4 21.41c.39.39.9.59 1.41.59.51 0 1.02-.2 1.41-.59l7.78-7.78 2.81-2.81c.8-.78.8-2.07 0-2.86zM5.41 20L4 18.59l7.72-7.72 1.47 1.35L5.41 20z\"/>\n",
              "  </svg>\n",
              "      </button>\n",
              "      \n",
              "  <style>\n",
              "    .colab-df-container {\n",
              "      display:flex;\n",
              "      flex-wrap:wrap;\n",
              "      gap: 12px;\n",
              "    }\n",
              "\n",
              "    .colab-df-convert {\n",
              "      background-color: #E8F0FE;\n",
              "      border: none;\n",
              "      border-radius: 50%;\n",
              "      cursor: pointer;\n",
              "      display: none;\n",
              "      fill: #1967D2;\n",
              "      height: 32px;\n",
              "      padding: 0 0 0 0;\n",
              "      width: 32px;\n",
              "    }\n",
              "\n",
              "    .colab-df-convert:hover {\n",
              "      background-color: #E2EBFA;\n",
              "      box-shadow: 0px 1px 2px rgba(60, 64, 67, 0.3), 0px 1px 3px 1px rgba(60, 64, 67, 0.15);\n",
              "      fill: #174EA6;\n",
              "    }\n",
              "\n",
              "    [theme=dark] .colab-df-convert {\n",
              "      background-color: #3B4455;\n",
              "      fill: #D2E3FC;\n",
              "    }\n",
              "\n",
              "    [theme=dark] .colab-df-convert:hover {\n",
              "      background-color: #434B5C;\n",
              "      box-shadow: 0px 1px 3px 1px rgba(0, 0, 0, 0.15);\n",
              "      filter: drop-shadow(0px 1px 2px rgba(0, 0, 0, 0.3));\n",
              "      fill: #FFFFFF;\n",
              "    }\n",
              "  </style>\n",
              "\n",
              "      <script>\n",
              "        const buttonEl =\n",
              "          document.querySelector('#df-0aadfaff-283c-4935-935a-8aece913299c button.colab-df-convert');\n",
              "        buttonEl.style.display =\n",
              "          google.colab.kernel.accessAllowed ? 'block' : 'none';\n",
              "\n",
              "        async function convertToInteractive(key) {\n",
              "          const element = document.querySelector('#df-0aadfaff-283c-4935-935a-8aece913299c');\n",
              "          const dataTable =\n",
              "            await google.colab.kernel.invokeFunction('convertToInteractive',\n",
              "                                                     [key], {});\n",
              "          if (!dataTable) return;\n",
              "\n",
              "          const docLinkHtml = 'Like what you see? Visit the ' +\n",
              "            '<a target=\"_blank\" href=https://colab.research.google.com/notebooks/data_table.ipynb>data table notebook</a>'\n",
              "            + ' to learn more about interactive tables.';\n",
              "          element.innerHTML = '';\n",
              "          dataTable['output_type'] = 'display_data';\n",
              "          await google.colab.output.renderOutput(dataTable, element);\n",
              "          const docLink = document.createElement('div');\n",
              "          docLink.innerHTML = docLinkHtml;\n",
              "          element.appendChild(docLink);\n",
              "        }\n",
              "      </script>\n",
              "    </div>\n",
              "  </div>\n",
              "  "
            ]
          },
          "metadata": {},
          "execution_count": 3
        }
      ],
      "source": [
        "\n",
        "# Данные закодированы в векторы и матрицы\n",
        "#mtx =   [[690, 3.1,  9,  7,  4],\n",
        "   #      [590, 3.9,  7,  6, 10],\n",
        "  #       [600, 3.6,  8,  8,  7],\n",
        " #        [620, 3.8,  7, 10,  6],\n",
        "#         [700, 2.8, 10,  4,  6],\n",
        "#         [650, 4.0,  6,  9,  8]]\n",
        "\n",
        "#w = [0.3, 0.2, 0.2, 0.15, 0.15]\n",
        "\n",
        "#names = ['Alfred', 'Bever', 'calvi', 'dian','edward', 'franc']\n",
        "\n",
        "\n",
        "# Отобразить необработанные данные, которые у нас есть\n",
        "#Data = pd.DataFrame(mtx, index = names)\n",
        "#Data\n",
        "\n",
        "# Данные закодированы в векторы и матрицы\n",
        "mtx = [[0.43,\t0.35,\t0.46,\t0.37,\t0.23],\n",
        "       [0.37,\t0.44,\t0.35,\t0.32,\t0.57],\n",
        "       [0.38,\t0.41,\t0.41,\t0.43,\t0.40],\n",
        "       [0.39,\t0.43,\t0.35,\t0.53,\t0.34]]\n",
        "\n",
        "w = [0.3, 0.2, 0.2, 0.15, 0.15]\n",
        "\n",
        "\n",
        "nam = ['Временные хар-ки', 'Восстана-вливаемость', 'Покрытие контекста', 'гибкость','Упра-вляемость']\n",
        "\n",
        "names = ['оzon', 'amazon', 'aliexpress', 'wilberrу']\n",
        "# Отобразить необработанные данные, которые у нас есть\n",
        "Data = pd.DataFrame(mtx, index = names,columns=nam)\n",
        "Data"
      ]
    },
    {
      "cell_type": "code",
      "source": [
        "f =-1\n",
        "for k in range(3):\n",
        "    f = f+1\n",
        "    if f < 5:\n",
        "      exec(f'cat_{k} =((np.array(mtx[f]))/(np.array(mtx[f+1::1])))**(np.array(w))')"
      ],
      "metadata": {
        "id": "kQLA9cCiiVm6"
      },
      "execution_count": 4,
      "outputs": []
    },
    {
      "cell_type": "code",
      "source": [
        "b =\" \"\n",
        "print (np.product(cat_0,axis = 1),\"\\n\"+b*10,\n",
        "       np.product(cat_1,axis = 1),\"\\n\"+b*21,\n",
        "       np.product(cat_2,axis = 1))\n"
      ],
      "metadata": {
        "colab": {
          "base_uri": "https://localhost:8080/"
        },
        "id": "pA0xkfaqw6L6",
        "outputId": "03d3aa9d-bc76-4f03-8997-b14e11ce0a5f"
      },
      "execution_count": 5,
      "outputs": [
        {
          "output_type": "stream",
          "name": "stdout",
          "text": [
            "[0.94140556 0.92580017 0.93262112] \n",
            "           [0.98342331 0.9906688 ] \n",
            "                      [1.00736762]\n"
          ]
        }
      ]
    },
    {
      "cell_type": "code",
      "source": [
        "1<2,1<3,1<4\n",
        "2<3,2<4\n",
        "3>4\n",
        "1,2,4,3\n",
        "\n",
        "\n",
        "for k in range(4):\n",
        "    if cat_0[k] < 1:\n",
        "          if k = 1 :\n",
        "            exec(f'A0_{k} = names[1]')\n",
        "    else : exec(f'A0_{k} = cat_0[f]')\n",
        "       "
      ],
      "metadata": {
        "id": "QIdezwSpnGpC"
      },
      "execution_count": null,
      "outputs": []
    },
    {
      "cell_type": "code",
      "execution_count": null,
      "metadata": {
        "id": "7rmZ74FeE8lX"
      },
      "outputs": [],
      "source": [
        "A_1"
      ]
    },
    {
      "cell_type": "code",
      "source": [
        "print(mtx[6])"
      ],
      "metadata": {
        "id": "hP8y9WlTkp3r"
      },
      "execution_count": null,
      "outputs": []
    },
    {
      "cell_type": "code",
      "execution_count": null,
      "metadata": {
        "id": "VbFPQe6XFrdB"
      },
      "outputs": [],
      "source": [
        "\n",
        "for i in mtx:\n",
        "    f = f+1\n",
        "    if f < 5:\n",
        "        #R.append(((np.array(mtx[f-1]))/(np.array(mtx[f::1])))**w) \n",
        "        exec(f'{i}=mtx[i]')\n",
        "        #R.append((mtx[f]))\n",
        "        #print(f)\n"
      ]
    },
    {
      "cell_type": "code",
      "execution_count": null,
      "metadata": {
        "id": "CeKWAlD5CvO0"
      },
      "outputs": [],
      "source": [
        "h = len(R)\n",
        "#T = pd.DataFrame(R)\n",
        "#Data = pd.DataFrame(R)\n",
        "#Data\n",
        "\n"
      ]
    },
    {
      "cell_type": "code",
      "source": [
        "T.product(axis = 1)"
      ],
      "metadata": {
        "id": "8kECTCTCJDQK"
      },
      "execution_count": null,
      "outputs": []
    },
    {
      "cell_type": "code",
      "execution_count": null,
      "metadata": {
        "id": "WvutSM3XJBtB"
      },
      "outputs": [],
      "source": [
        "#R=[]\n",
        "#f= -1\n",
        "#for i in mtx:\n",
        "    #if f<= 4:\n",
        "        #f = f+1\n",
        "        #R.append((np.array(mtx[f]))*(np.array(mtx[f+1])))\n",
        "R=[]\n",
        "f= -1\n",
        "#for i in mtx:\n",
        "#    if f<= 4:\n",
        "       #f = f+1: \n",
        "          #R.append(np.array(mtx[f::1]))*np.array(mtx[f]))\n",
        "        #(np.array(mtx[0::2]))/(np.array(mtx[1::2])))\n",
        "        #(np.array(mtx[1::1]))*(np.array(mtx[0]))\n",
        "        #(np.array(mtx[2::1]))*(np.array(mtx[1]))\n",
        "        #np.array(mtx[3::1])*np.array(mtx[2])\n",
        "        #np.array(mtx[4::1])*np.array(mtx[3])\n",
        "        #np.array(mtx[5::1])#*np.array(mtx[4])"
      ]
    },
    {
      "cell_type": "code",
      "execution_count": null,
      "metadata": {
        "id": "4D-TvsDTAVER"
      },
      "outputs": [],
      "source": [
        "#R=[]\n",
        "#f= -1\n",
        "#for i in mtx:\n",
        "    #if f<= 4:\n",
        "        #f = f+1\n",
        "        #R.append((np.array(mtx[f]))*(np.array(mtx[f+1])))\n",
        "R=[]\n",
        "f= -1\n",
        "#for i in mtx:\n",
        "#    if f<= 4:\n",
        "       #f = f+1: \n",
        "          #R.append(np.array(mtx[f::1]))*np.array(mtx[f]))\n",
        "        #(np.array(mtx[0::2]))/(np.array(mtx[1::2])))\n",
        "(np.array(mtx[0]))\n"
      ]
    },
    {
      "cell_type": "code",
      "execution_count": null,
      "metadata": {
        "id": "2SkWXdGjdoiS"
      },
      "outputs": [],
      "source": [
        "#T = pd.DataFrame(R)\n",
        "#T\n",
        "R"
      ]
    },
    {
      "cell_type": "code",
      "execution_count": null,
      "metadata": {
        "id": "ELPPaMYJedv-"
      },
      "outputs": [],
      "source": [
        "T.product(axis = 1)"
      ]
    },
    {
      "cell_type": "code",
      "execution_count": null,
      "metadata": {
        "id": "Prj9MqKT_PW4"
      },
      "outputs": [],
      "source": [
        "a = np.array(mtx[0::2])\n",
        "b = np.array(mtx[1::2])"
      ]
    },
    {
      "cell_type": "code",
      "execution_count": null,
      "metadata": {
        "id": "5zd3pxFHDlnA"
      },
      "outputs": [],
      "source": [
        "x = (a/b)\n",
        "x"
      ]
    },
    {
      "cell_type": "code",
      "execution_count": null,
      "metadata": {
        "id": "8yS3mBGW-SGj"
      },
      "outputs": [],
      "source": [
        "x = (a/b)**np.array(w)\n",
        "x"
      ]
    },
    {
      "cell_type": "code",
      "execution_count": null,
      "metadata": {
        "id": "gxBX4Ibm9tYP"
      },
      "outputs": [],
      "source": [
        "Data_norm = np.sum(Da,axis=2)\n",
        "print(Data_norm)"
      ]
    },
    {
      "cell_type": "code",
      "execution_count": null,
      "metadata": {
        "id": "Zo5b7ZTlHJrT"
      },
      "outputs": [],
      "source": [
        "#Comme vous pouvez le constater, le nom a est bien associé à l'entier situé à la 2e ligne (indice 1) et à \n",
        "#la 3e colonne (indice 2), c'est-à-dire 8.\n",
        "m = [[1, 3, 4],\n",
        "     [5, 6, 8],\n",
        "     [2, 1, 3],\n",
        "     [7, 8, 15]]\n",
        "a = m[1][2]\n",
        "a\n"
      ]
    },
    {
      "cell_type": "code",
      "execution_count": null,
      "metadata": {
        "id": "TQi8oSkDICu0"
      },
      "outputs": [],
      "source": [
        "m = [[1, 3, 4],\n",
        "     [5, 6, 8],\n",
        "     [2, 1, 3],\n",
        "     [7, 8, 15]]\n",
        "nb_colonne = 3\n",
        "nb_ligne = 4\n",
        "for i in range(0, nb_ligne):\n",
        "\tfor j in range(0, nb_colonne):\n",
        "\t\ta = m[i][j]\n",
        "\t\tprint(a)"
      ]
    },
    {
      "cell_type": "code",
      "execution_count": null,
      "metadata": {
        "id": "FTSrNpieIqxV"
      },
      "outputs": [],
      "source": [
        "a = [[1, 3, 4],\n",
        "     [5, 6, 8],\n",
        "     [2, 1, 3],\n",
        "     [7, 8, 15]]\n",
        "b = [[1, 3, 4],\n",
        "     [5, 6, 8],\n",
        "     [2, 1, 3],\n",
        "     [7, 8, 15]]\n",
        "\n",
        "x = a*b"
      ]
    },
    {
      "cell_type": "code",
      "execution_count": null,
      "metadata": {
        "id": "sCrrCkc-Jgs-"
      },
      "outputs": [],
      "source": [
        "a = np.array([[1, 2, 3],\n",
        "              [4, 5, 6],])\n",
        "b = np.array([[2, 1, 3],\n",
        "              [3, 2, 1]])\n",
        "a*b"
      ]
    },
    {
      "cell_type": "code",
      "execution_count": null,
      "metadata": {
        "id": "oeT_8fJYxGMN"
      },
      "outputs": [],
      "source": [
        "a = np.array([[1, 2, 3],\n",
        "              [4, 5, 6],\n",
        "              [2, 1, 3],\n",
        "              [3, 2, 1]])"
      ]
    },
    {
      "cell_type": "code",
      "execution_count": null,
      "metadata": {
        "id": "2fK7To7JxJN7"
      },
      "outputs": [],
      "source": [
        "a[1::2]"
      ]
    },
    {
      "cell_type": "code",
      "execution_count": null,
      "metadata": {
        "id": "29lHaDklVpXb"
      },
      "outputs": [],
      "source": [
        "x = [(1,3), (2,4), (8,2)] \n",
        "for a, b in x: print(a, \"+\", b, \"=\", a+b)"
      ]
    },
    {
      "cell_type": "code",
      "execution_count": null,
      "metadata": {
        "id": "6SbfzJTlV9WA"
      },
      "outputs": [],
      "source": [
        "l = [1, 7, 9, 15, 5, 20, 10, 8]\n",
        "mon_tab = [p**2 for p in l if p < 10]\n",
        "mon_tab"
      ]
    },
    {
      "cell_type": "code",
      "execution_count": null,
      "metadata": {
        "id": "CcwDrzWcXKNx"
      },
      "outputs": [],
      "source": [
        "m = [[1, 3, 4],\n",
        "     [5, 6, 8],\n",
        "     [2, 1, 3],\n",
        "     [7, 8, 15]]\n",
        "nb_colonne = 3\n",
        "nb_ligne = 4\n",
        "for i in range(0, nb_ligne):\n",
        "\tfor j in range(0, nb_colonne):\n",
        "\t\ta = m[i][j]\n",
        "\t\tprint(a)"
      ]
    },
    {
      "cell_type": "code",
      "source": [
        "weights = np.array([ [0.20, 0.15, 0.40, 0.25] ])\n",
        "\n",
        "# Dataset\n",
        "dataset = np.array([\n",
        "                [25, 20, 15, 30],   #a1\n",
        "                [10, 30, 20 , 30],   #a2\n",
        "                [30, 10, 30, 10]   #a3\n",
        "                ])\n",
        "x = np.zeros((dataset.shape[0], dataset.shape[1]), dtype = float)\n",
        "for j in range(0, dataset.shape[1]):\n",
        "        x[:,j] = 1 + ( dataset[:,j] - np.min(dataset[:,j]) ) / ( np.max(dataset[:,j]) - np.min(dataset[:,j]) )\n"
      ],
      "metadata": {
        "id": "3msc1Gwa1-7n"
      },
      "execution_count": null,
      "outputs": []
    },
    {
      "cell_type": "code",
      "execution_count": null,
      "metadata": {
        "id": "H8prVKqdwNbl"
      },
      "outputs": [],
      "source": [
        "x"
      ]
    }
  ],
  "metadata": {
    "colab": {
      "provenance": [],
      "authorship_tag": "ABX9TyMVqCI1PMdiRROMFkd6iXy1",
      "include_colab_link": true
    },
    "kernelspec": {
      "display_name": "Python 3",
      "name": "python3"
    },
    "language_info": {
      "name": "python"
    }
  },
  "nbformat": 4,
  "nbformat_minor": 0
}