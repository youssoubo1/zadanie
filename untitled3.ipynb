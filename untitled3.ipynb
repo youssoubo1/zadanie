{
  "nbformat": 4,
  "nbformat_minor": 0,
  "metadata": {
    "colab": {
      "provenance": [],
      "authorship_tag": "ABX9TyNd0IMs4cjWjVEmuTkAVccV",
      "include_colab_link": true
    },
    "kernelspec": {
      "name": "python3",
      "display_name": "Python 3"
    },
    "language_info": {
      "name": "python"
    }
  },
  "cells": [
    {
      "cell_type": "markdown",
      "metadata": {
        "id": "view-in-github",
        "colab_type": "text"
      },
      "source": [
        "<a href=\"https://colab.research.google.com/github/youssoubo1/zadanie/blob/main/untitled3.ipynb\" target=\"_parent\"><img src=\"https://colab.research.google.com/assets/colab-badge.svg\" alt=\"Open In Colab\"/></a>"
      ]
    },
    {
      "cell_type": "code",
      "source": [
        "!pip install pyDecision"
      ],
      "metadata": {
        "colab": {
          "base_uri": "https://localhost:8080/"
        },
        "id": "98XQ3BByvD1Y",
        "outputId": "ecaba7d3-bba8-4125-8620-11d103765b0f"
      },
      "execution_count": null,
      "outputs": [
        {
          "output_type": "stream",
          "name": "stdout",
          "text": [
            "Looking in indexes: https://pypi.org/simple, https://us-python.pkg.dev/colab-wheels/public/simple/\n",
            "Requirement already satisfied: pyDecision in /usr/local/lib/python3.7/dist-packages (2.8.3)\n",
            "Requirement already satisfied: numpy in /usr/local/lib/python3.7/dist-packages (from pyDecision) (1.21.6)\n",
            "Requirement already satisfied: matplotlib in /usr/local/lib/python3.7/dist-packages (from pyDecision) (3.2.2)\n",
            "Requirement already satisfied: scikit-learn in /usr/local/lib/python3.7/dist-packages (from pyDecision) (1.0.2)\n",
            "Requirement already satisfied: scipy in /usr/local/lib/python3.7/dist-packages (from pyDecision) (1.7.3)\n",
            "Requirement already satisfied: kiwisolver>=1.0.1 in /usr/local/lib/python3.7/dist-packages (from matplotlib->pyDecision) (1.4.4)\n",
            "Requirement already satisfied: cycler>=0.10 in /usr/local/lib/python3.7/dist-packages (from matplotlib->pyDecision) (0.11.0)\n",
            "Requirement already satisfied: python-dateutil>=2.1 in /usr/local/lib/python3.7/dist-packages (from matplotlib->pyDecision) (2.8.2)\n",
            "Requirement already satisfied: pyparsing!=2.0.4,!=2.1.2,!=2.1.6,>=2.0.1 in /usr/local/lib/python3.7/dist-packages (from matplotlib->pyDecision) (3.0.9)\n",
            "Requirement already satisfied: typing-extensions in /usr/local/lib/python3.7/dist-packages (from kiwisolver>=1.0.1->matplotlib->pyDecision) (4.1.1)\n",
            "Requirement already satisfied: six>=1.5 in /usr/local/lib/python3.7/dist-packages (from python-dateutil>=2.1->matplotlib->pyDecision) (1.15.0)\n",
            "Requirement already satisfied: threadpoolctl>=2.0.0 in /usr/local/lib/python3.7/dist-packages (from scikit-learn->pyDecision) (3.1.0)\n",
            "Requirement already satisfied: joblib>=0.11 in /usr/local/lib/python3.7/dist-packages (from scikit-learn->pyDecision) (1.2.0)\n"
          ]
        }
      ]
    },
    {
      "cell_type": "code",
      "execution_count": null,
      "metadata": {
        "id": "IkxmsZoOu107"
      },
      "outputs": [],
      "source": [
        "# Required Libraries\n",
        "import numpy as np\n",
        "\n",
        "from pyDecision.algorithm import topsis_method"
      ]
    },
    {
      "cell_type": "code",
      "source": [
        "# TOPSIS\n",
        "\n",
        "# Weights\n",
        "weights = np.array([ [0.3, 0.2, 0.2, 0.15, 0.15] ])\n",
        "\n",
        "# Load Criterion Type: 'max' or 'min'\n",
        "criterion_type = ['max', 'max', 'max', 'max', 'max']\n",
        "\n",
        "# Dataset\n",
        "dataset = np.array([\n",
        "    [690, 3.1,  9,  7,  4],\n",
        "    [590, 3.9,  7,  6, 10],\n",
        "    [600, 3.6,  8,  8,  7],\n",
        "    [620, 3.8,  7, 10,  6],\n",
        "    [700, 2.8, 10,  4,  6],\n",
        "    [650, 4.0,  6,  9,  8],\n",
        "                ])\n",
        "\n"
      ],
      "metadata": {
        "id": "Ct11XDAOu4zP"
      },
      "execution_count": null,
      "outputs": []
    },
    {
      "cell_type": "code",
      "source": [
        "# Call TOPSIS\n",
        "relative_closeness = topsis_method(dataset, weights, criterion_type, graph = True)"
      ],
      "metadata": {
        "colab": {
          "base_uri": "https://localhost:8080/",
          "height": 365
        },
        "id": "21jgpMl7vN2n",
        "outputId": "4e9750e0-fe90-4cfe-a96a-2c340f2a6bcd"
      },
      "execution_count": null,
      "outputs": [
        {
          "output_type": "stream",
          "name": "stdout",
          "text": [
            "a1: 0.42\n",
            "a2: 0.55\n",
            "a3: 0.54\n",
            "a4: 0.54\n",
            "a5: 0.43\n",
            "a6: 0.57\n"
          ]
        },
        {
          "output_type": "display_data",
          "data": {
            "text/plain": [
              "<Figure size 432x288 with 1 Axes>"
            ],
            "image/png": "[encoded data removed]"
          },
          "metadata": {
            "needs_background": "light"
          }
        }
      ]
    },
    {
      "cell_type": "code",
      "source": [
        "# Rank\n",
        "for i in range(0, relative_closeness.shape[0]):\n",
        "  print('a'+str(i)+' = ', round(relative_closeness[i], 2))"
      ],
      "metadata": {
        "colab": {
          "base_uri": "https://localhost:8080/"
        },
        "id": "JkyFK6I1vTxX",
        "outputId": "7ea507de-977a-4eee-f224-ef668d445d20"
      },
      "execution_count": null,
      "outputs": [
        {
          "output_type": "stream",
          "name": "stdout",
          "text": [
            "a0 =  0.42\n",
            "a1 =  0.55\n",
            "a2 =  0.54\n",
            "a3 =  0.54\n",
            "a4 =  0.43\n",
            "a5 =  0.57\n"
          ]
        }
      ]
    }
  ]
}